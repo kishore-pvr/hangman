{
 "cells": [
  {
   "cell_type": "code",
   "execution_count": 12,
   "metadata": {},
   "outputs": [],
   "source": [
    "import random\n",
    "def pick_word():\n",
    "    newlist=[]\n",
    "    fp=open(\"words.txt\",\"r+\")\n",
    "    words=fp.readlines()\n",
    "    for i in words:\n",
    "        newlist.append(i.split('\\n')[0])\n",
    "    return random.choice(newlist)"
   ]
  },
  {
   "cell_type": "code",
   "execution_count": 13,
   "metadata": {
    "scrolled": true
   },
   "outputs": [],
   "source": [
    "def proces():\n",
    "    a=0\n",
    "    word=pick_word()\n",
    "    l=len(word)\n",
    "    print(f\"It's a {l} letter word\")\n",
    "    str1='_'*l\n",
    "    while(True):\n",
    "        guess=input(f\"Enter a letter or {l} letter word\\n\")\n",
    "        a+=1\n",
    "        if(len(guess)==1 ):\n",
    "            str1=compare(guess,word,str1)\n",
    "            if(str1==word.upper()):\n",
    "                print(str1+\" is the word!!\")\n",
    "        elif(len(guess)==l):\n",
    "            if(guess.upper()==word.upper()):\n",
    "                print(word+f\" is correct!! You guessed in {a} attempts\")\n",
    "                break\n",
    "            else:\n",
    "                print(\"Try Again!\")\n",
    "        else:\n",
    "            print(\"Invalid Entry\")"
   ]
  },
  {
   "cell_type": "code",
   "execution_count": 14,
   "metadata": {},
   "outputs": [],
   "source": [
    "def compare(guess,word,str1):\n",
    "    x=guess.upper()\n",
    "    ls=list(str1)\n",
    "    if( x in word.upper()):\n",
    "        for i in range(0,len(word)):\n",
    "            if (word[i].upper()==x):\n",
    "                ls[i]=x\n",
    "    str1=''.join(ls)\n",
    "    print(str1)\n",
    "    return str1"
   ]
  },
  {
   "cell_type": "code",
   "execution_count": 18,
   "metadata": {
    "scrolled": true
   },
   
   "source": [
    "proces()"
   ]
  },
  {
   "cell_type": "code",
   "execution_count": null,
   "metadata": {},
   "outputs": [],
   "source": []
  },
  {
   "cell_type": "code",
   "execution_count": null,
   "metadata": {},
   "outputs": [],
   "source": []
  }
 ],
 "metadata": {
  "kernelspec": {
   "display_name": "Python 3",
   "language": "python",
   "name": "python3"
  },
  "language_info": {
   "codemirror_mode": {
    "name": "ipython",
    "version": 3
   },
   "file_extension": ".py",
   "mimetype": "text/x-python",
   "name": "python",
   "nbconvert_exporter": "python",
   "pygments_lexer": "ipython3",
   "version": "3.6.4"
  }
 },
 "nbformat": 4,
 "nbformat_minor": 2
}
